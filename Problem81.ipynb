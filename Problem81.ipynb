{
 "cells": [
  {
   "cell_type": "code",
   "execution_count": 5,
   "metadata": {
    "collapsed": false
   },
   "outputs": [
   ],
   "source": [
    "\"\"\"\n",
    "Problem 81\n",
    "In the 5 by 5 matrix below, the minimal path sum from the top left to the bottom right, by only moving to the right and down, is indicated in bold red (DRRDRDDR) and is equal to 2427.\n",
    "\n",
    "131 673 234 103  18\n",
    "201  96 342 965 150\n",
    "630 803 746 422 111\n",
    "537 699 497 121 956\n",
    "805 732 524  37 331\n",
    "\n",
    "\n",
    "Find the minimal path sum, in matrix.txt (right click and \"Save Link/Target As...\"), a 31K text file containing a 80 by 80 matrix, from the top left to the bottom right by only moving right and down.\n",
    "\"\"\"\n",
    "\n",
    "class Tree:#not truly a tree, anti-diagonal could be leaves, but then glued with another tree... need better description\n",
    "    def __init__(self, value, left= None, above=None):\n",
    "        self.value = value\n",
    "        self.left = left\n",
    "        self.above = above\n",
    "\n",
    "        if self.left is None:\n",
    "            if self.above is None:\n",
    "                # top left node\n",
    "                self.total = value\n",
    "                self.path = \"\"\n",
    "            else:\n",
    "                #there is only one node, above\n",
    "                self.total = value + above.total\n",
    "                self.path = above.path + 'D'\n",
    "        else:\n",
    "            #left is a node\n",
    "            if self.above is None:\n",
    "                #there is only one node, left\n",
    "                self.total = value + left.total\n",
    "                self.path = left.path + 'R'\n",
    "            else:\n",
    "                #there are two nodes to compare\n",
    "                if left.total < above.total:\n",
    "                    self.total = value + left.total\n",
    "                    self.path = left.path + 'R'\n",
    "                else:\n",
    "                    self.total = value + above.total\n",
    "                    self.path = above.path + 'D'"
   ]
  },
  {
   "cell_type": "code",
   "execution_count": 12,
   "metadata": {
    "collapsed": false
   },
   "outputs": [
    {
     "name": "stdout",
     "output_type": "stream",
     "text": [
      "427337 RRRRRRDRDRDRRRDRRRRRRDRRRRRRDRRRRRRDDRDRDDRRDDDDDDRDDDDDRDDRRDRDRRRDRRDDDDDRRRDDDDDDDRRDDDDDRDDDRDRDRDRRRDDRRRDRRDDDDDDDDDRRRRRRDDDDDRRRRRDRDRRRRDDRDRDDDDDDDR\n"
     ]
    }
   ],
   "source": [
    "# build tree from matrix data in file\n",
    "#text_file = open('p81test.txt')\n",
    "text_file = open('p81data.txt')\n",
    "rows = [line.strip('\\n').split(',') for line in text_file]\n",
    "\n",
    "#set top row of trees\n",
    "values = rows[0]\n",
    "above = [Tree(int(values[0]))]\n",
    "for v in values[1:]:\n",
    "    left_node = above[-1]\n",
    "    above.append(Tree(int(v),left=left_node))\n",
    "    \n",
    "size = len(above)\n",
    "    \n",
    "above = tuple(above)\n",
    "current = []\n",
    "for r in rows[1:]:\n",
    "    #set first item\n",
    "    current.append(Tree(int(r[0]),above=above[0]))\n",
    "    #iterate over range(size) to more easily compute 'above' nodes, i is index\n",
    "    for i in range(1,size):\n",
    "        left_node = current[-1]\n",
    "        current.append(Tree(int(r[i]),left_node,above[i]))\n",
    "    #update above and current\n",
    "    above = tuple(current)\n",
    "    current=[]\n",
    "        \n",
    "print(above[-1].total, above[-1].path) #works on test file\n",
    "\n",
    "\n"
   ]
  },
  {
   "cell_type": "code",
   "execution_count": 0,
   "metadata": {
    "collapsed": false
   },
   "outputs": [
   ],
   "source": [
   ]
  }
 ],
 "metadata": {
  "kernelspec": {
   "display_name": "Python 3 (system-wide)",
   "language": "python",
   "metadata": {
    "cocalc": {
     "description": "Python 3 programming language",
     "priority": 100,
     "url": "https://www.python.org/"
    }
   },
   "name": "python3"
  },
  "language_info": {
   "codemirror_mode": {
    "name": "ipython",
    "version": 3
   },
   "file_extension": ".py",
   "mimetype": "text/x-python",
   "name": "python",
   "nbconvert_exporter": "python",
   "pygments_lexer": "ipython3",
   "version": "3.6.8"
  }
 },
 "nbformat": 4,
 "nbformat_minor": 0
}