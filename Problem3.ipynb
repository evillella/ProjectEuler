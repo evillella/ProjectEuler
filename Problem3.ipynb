{
 "cells": [
  {
   "cell_type": "code",
   "execution_count": 17,
   "metadata": {
    "collapsed": false
   },
   "outputs": [
    {
     "name": "stdout",
     "output_type": "stream",
     "text": [
      "600851475143 71\n",
      "8462696833 839\n",
      "10086647 1471\n"
     ]
    },
    {
     "data": {
      "text/plain": [
       "6857"
      ]
     },
     "execution_count": 17,
     "metadata": {
     },
     "output_type": "execute_result"
    }
   ],
   "source": [
    "\"\"\"\n",
    "Problem 3\n",
    "The prime factors of 13195 are 5, 7, 13 and 29.\n",
    "\n",
    "What is the largest prime factor of the number 600851475143 ?\n",
    "\"\"\"\n",
    "\n",
    "primes = []\n",
    "\n",
    "def largest_prime_factor(n):\n",
    "    d = len(primes)\n",
    "    for c in range(2,int(n/2)):\n",
    "        if n%c == 0: #c is a factor, first one must be prime\n",
    "            primes.append(c)\n",
    "            break\n",
    "    if len(primes) == d: ##no more factors, add n to list, answer is largest from list of primes\n",
    "        primes.append(n)\n",
    "        return max(primes)\n",
    "    else:\n",
    "        print(n,primes[-1])\n",
    "        return largest_prime_factor(int(n/primes[-1]))         \n",
    "#largest_prime_factor(115)\n",
    "#largest_prime_factor(13195)\n",
    "#largest_prime_factor(27)\n",
    "largest_prime_factor(600851475143)"
   ]
  },
  {
   "cell_type": "code",
   "execution_count": 0,
   "metadata": {
    "collapsed": false
   },
   "outputs": [
   ],
   "source": [
   ]
  },
  {
   "cell_type": "code",
   "execution_count": 0,
   "metadata": {
    "collapsed": false
   },
   "outputs": [
   ],
   "source": [
   ]
  }
 ],
 "metadata": {
  "kernelspec": {
   "display_name": "Python 3 (system-wide)",
   "language": "python",
   "metadata": {
    "cocalc": {
     "description": "Python 3 programming language",
     "priority": 100,
     "url": "https://www.python.org/"
    }
   },
   "name": "python3"
  },
  "language_info": {
   "codemirror_mode": {
    "name": "ipython",
    "version": 3
   },
   "file_extension": ".py",
   "mimetype": "text/x-python",
   "name": "python",
   "nbconvert_exporter": "python",
   "pygments_lexer": "ipython3",
   "version": "3.6.8"
  }
 },
 "nbformat": 4,
 "nbformat_minor": 0
}