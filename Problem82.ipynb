{
 "cells": [
  {
   "cell_type": "code",
   "execution_count": 1,
   "metadata": {
    "collapsed": false
   },
   "outputs": [
    {
     "name": "stdout",
     "output_type": "stream",
     "text": [
      "131\n",
      "201\n",
      "630\n",
      "537\n",
      "805\n"
     ]
    }
   ],
   "source": [
    "\"\"\"\n",
    "Problem 82\n",
    "NOTE: This problem is a more challenging version of Problem 81.\n",
    "\n",
    "The minimal path sum in the 5 by 5 matrix below, by starting in any cell in the left column and finishing in any cell in the right column, and only moving up, down, and right, is indicated in red and bold (RRURR); the sum is equal to 994.\n",
    "\n",
    "131 673 234 103  18\n",
    "201  96 342 965 150\n",
    "630 803 746 422 111\n",
    "537 699 497 121 956\n",
    "805 732 524  37 331\n",
    "\n",
    "Find the minimal path sum, in matrix.txt (right click and \"Save Link/Target As...\"), a 31K text file containing a 80 by 80 matrix, from the left column to the right column.\n",
    "\"\"\"\n",
    "\n",
    "class Node:#keeps track of adjacency for later\n",
    "    def __init__(self, value, left= None, above=None, below=None):\n",
    "        self.value = value\n",
    "        self.left = left\n",
    "        self.above = above\n",
    "        self.below = below\n",
    "        self.total = 0\n",
    "        self.path = ''\n",
    "        \n",
    "    def __update__(self):\n",
    "        '''\n",
    "        If no nodes to left, update self.total to self.value.\n",
    "        Otherwise, TODO\n",
    "        '''\n",
    "        \n",
    "        \n",
    "        \n",
    "#idea: import/clean data\n",
    "#      initialize network of nodes recording connectivity\n",
    "#      initialize list of \"left column\" nodes\n",
    "#      for left column nodes, initialize paths and totals (single nodes)\n",
    "#      write move_right function which finds best path to the right (may involve up/down first)\n",
    "\n",
    "# build network from matrix data in file\n",
    "text_file = open('p81test.txt')\n",
    "#text_file = open('p81data.txt')\n",
    "rows = [line.strip('\\n').split(',') for line in text_file]\n",
    "\n",
    "#set top row of trees\n",
    "values = rows[0]\n",
    "above = [Node(int(values[0]))]\n",
    "for v in values[1:]:\n",
    "    left_node = above[-1]\n",
    "    above.append(Node(int(v),left=left_node))\n",
    "    \n",
    "size = len(above)\n",
    "    \n",
    "above = tuple(above)\n",
    "current = []\n",
    "for r in rows[1:]:\n",
    "    #set first item\n",
    "    current.append(Node(int(r[0]),above=above[0]))\n",
    "    #iterate over range(size) to more easily compute 'above' nodes, i is index\n",
    "    for i in range(1,size):\n",
    "        left_node = current[-1]\n",
    "        current.append(Node(int(r[i]),left_node,above[i]))\n",
    "    #update above and current\n",
    "    above = tuple(current)\n",
    "    current=[]\n",
    "    \n",
    "network = [above[0]]\n",
    "node_above = True\n",
    "while node_above:\n",
    "    node = network[-1]\n",
    "    network.append(node.above)\n",
    "    node_above = node.above.above is not None\n",
    "network.reverse()\n",
    "\n",
    "##at this point network should be the first column\n",
    "#for node in network:\n",
    "#    print(node.value)\n",
    "#verified on test set\n",
    "\n"
   ]
  },
  {
   "cell_type": "code",
   "execution_count": 0,
   "metadata": {
    "collapsed": false
   },
   "outputs": [
   ],
   "source": [
   ]
  }
 ],
 "metadata": {
  "kernelspec": {
   "display_name": "Python 3 (system-wide)",
   "language": "python",
   "metadata": {
    "cocalc": {
     "description": "Python 3 programming language",
     "priority": 100,
     "url": "https://www.python.org/"
    }
   },
   "name": "python3"
  },
  "language_info": {
   "codemirror_mode": {
    "name": "ipython",
    "version": 3
   },
   "file_extension": ".py",
   "mimetype": "text/x-python",
   "name": "python",
   "nbconvert_exporter": "python",
   "pygments_lexer": "ipython3",
   "version": "3.6.8"
  }
 },
 "nbformat": 4,
 "nbformat_minor": 0
}