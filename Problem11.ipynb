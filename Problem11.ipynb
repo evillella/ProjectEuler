{
 "cells": [
  {
   "cell_type": "code",
   "execution_count": 17,
   "metadata": {
    "collapsed": false
   },
   "outputs": [
    {
     "name": "stdout",
     "output_type": "stream",
     "text": [
      "48477312 51267216 40304286 40304286\n"
     ]
    }
   ],
   "source": [
    "\"\"\"\n",
    "Problem 11\n",
    "In the 20×20 grid below, four numbers along a diagonal line have been marked in red.\n",
    "\n",
    "08 02 22 97 38 15 00 40 00 75 04 05 07 78 52 12 50 77 91 08\n",
    "49 49 99 40 17 81 18 57 60 87 17 40 98 43 69 48 04 56 62 00\n",
    "81 49 31 73 55 79 14 29 93 71 40 67 53 88 30 03 49 13 36 65\n",
    "52 70 95 23 04 60 11 42 69 24 68 56 01 32 56 71 37 02 36 91\n",
    "22 31 16 71 51 67 63 89 41 92 36 54 22 40 40 28 66 33 13 80\n",
    "24 47 32 60 99 03 45 02 44 75 33 53 78 36 84 20 35 17 12 50\n",
    "32 98 81 28 64 23 67 10 26 38 40 67 59 54 70 66 18 38 64 70\n",
    "67 26 20 68 02 62 12 20 95 63 94 39 63 08 40 91 66 49 94 21\n",
    "24 55 58 05 66 73 99 26 97 17 78 78 96 83 14 88 34 89 63 72\n",
    "21 36 23 09 75 00 76 44 20 45 35 14 00 61 33 97 34 31 33 95\n",
    "78 17 53 28 22 75 31 67 15 94 03 80 04 62 16 14 09 53 56 92\n",
    "16 39 05 42 96 35 31 47 55 58 88 24 00 17 54 24 36 29 85 57\n",
    "86 56 00 48 35 71 89 07 05 44 44 37 44 60 21 58 51 54 17 58\n",
    "19 80 81 68 05 94 47 69 28 73 92 13 86 52 17 77 04 89 55 40\n",
    "04 52 08 83 97 35 99 16 07 97 57 32 16 26 26 79 33 27 98 66\n",
    "88 36 68 87 57 62 20 72 03 46 33 67 46 55 12 32 63 93 53 69\n",
    "04 42 16 73 38 25 39 11 24 94 72 18 08 46 29 32 40 62 76 36\n",
    "20 69 36 41 72 30 23 88 34 62 99 69 82 67 59 85 74 04 36 16\n",
    "20 73 35 29 78 31 90 01 74 31 49 71 48 86 81 16 23 57 05 54\n",
    "01 70 54 71 83 51 54 69 16 92 33 48 61 43 52 01 89 19 67 48\n",
    "\n",
    "The product of these numbers is 26 × 63 × 78 × 14 = 1788696.\n",
    "\n",
    "What is the greatest product of four adjacent numbers in the same direction (up, down, left, right, or diagonally) in the 20×20 grid?\n",
    "\"\"\"\n",
    "\n",
    "text_file = open('p11data.txt')\n",
    "rows_str = [line.strip('\\n').split(' ') for line in text_file]\n",
    "rows = []\n",
    "for row in rows_str:\n",
    "    rows.append([int(r) for r in row])\n",
    "    \n",
    "def row_max_prod(row):\n",
    "    '''\n",
    "    Takes list, returns maximal product of four adjacent entries\n",
    "    '''\n",
    "    l = len(row)\n",
    "    temp_max = row[0]*row[1]*row[2]*row[3]\n",
    "    for i in range(4,l):\n",
    "        prod = row[i]*row[i-1]*row[i-2]*row[i-3]\n",
    "        if prod > temp_max:\n",
    "            temp_max = prod\n",
    "    return temp_max        \n",
    "                \n",
    "\n",
    "row_max = max([row_max_prod(row) for row in rows])\n",
    "\n",
    "cols = [[row[i] for row in rows] for i in range(20)]\n",
    "col_max = max([row_max_prod(col) for col in cols])\n",
    "\n",
    "for i in range(3):\n",
    "    cols[0][-i-1]=0\n",
    "    rows[0][-i-1]=0\n",
    "    cols[-1][-i-1]=0\n",
    "    rows[-1][-i-1]=0\n",
    "    \n",
    "\n",
    "main_diags = []\n",
    "opp_diags = []\n",
    "for i in range(20):\n",
    "    main_diags.append(rows[i][i:]+rows[i][:i])\n",
    "    opp_diags.append(cols[i][i:]+cols[i][:i])\n",
    "#transpose, then find max\n",
    "main_trans = [[row[i] for row in main_diags] for i in range(20)]\n",
    "opp_trans = [[row[i] for row in opp_diags] for i in range(20)]\n",
    "\n",
    "main_max = max([row_max_prod(row) for row in main_trans])\n",
    "opp_max = max([row_max_prod(row) for row in opp_trans])\n",
    "\n",
    "print(row_max, col_max, main_max, opp_max)\n",
    "    "
   ]
  },
  {
   "cell_type": "raw",
   "metadata": {
    "collapsed": false
   },
   "source": [
   ]
  }
 ],
 "metadata": {
  "kernelspec": {
   "display_name": "Python 3 (system-wide)",
   "language": "python",
   "metadata": {
    "cocalc": {
     "description": "Python 3 programming language",
     "priority": 100,
     "url": "https://www.python.org/"
    }
   },
   "name": "python3"
  },
  "language_info": {
   "codemirror_mode": {
    "name": "ipython",
    "version": 3
   },
   "file_extension": ".py",
   "mimetype": "text/x-python",
   "name": "python",
   "nbconvert_exporter": "python",
   "pygments_lexer": "ipython3",
   "version": "3.6.8"
  }
 },
 "nbformat": 4,
 "nbformat_minor": 0
}