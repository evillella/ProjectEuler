{
 "cells": [
  {
   "cell_type": "code",
   "execution_count": 15,
   "metadata": {
    "collapsed": false
   },
   "outputs": [
    {
     "data": {
      "text/plain": [
       "906609"
      ]
     },
     "execution_count": 15,
     "metadata": {
     },
     "output_type": "execute_result"
    }
   ],
   "source": [
    "\"\"\"\n",
    "Problem 4\n",
    "A palindromic number reads the same both ways. The largest palindrome made from the product of two 2-digit numbers is 9009 = 91 × 99.\n",
    "\n",
    "Find the largest palindrome made from the product of two 3-digit numbers.\n",
    "\"\"\"\n",
    "\n",
    "def is_palindromic(n):\n",
    "    number = str(n)\n",
    "    l = len(number)\n",
    "    match = True\n",
    "    for i in range(int(l/2)):\n",
    "        #print(l,i,l-i)\n",
    "        if number[i] != number[l-i-1]:\n",
    "            match = False\n",
    "    return match\n",
    "            \n",
    "#is_palindromic(12321)\n",
    "#is_palindromic(123321)\n",
    "#is_palindromic(123312)\n",
    "\n",
    "def largest_palindrome():\n",
    "    n1 = 99\n",
    "    n2 = 99\n",
    "    adjust = (0,0)\n",
    "    no_palindrome = True\n",
    "    while no_palindrome:\n",
    "        number = n1*n2\n",
    "        if is_palindromic(number):\n",
    "            no_palindrome = False\n",
    "            answer = number\n",
    "        else:\n",
    "            a0,a1 = adjust\n",
    "            #adjust numbers in an intelligent way\n",
    "            if a0-a1 > 1:\n",
    "                adjust = (a0-1,a1+1)\n",
    "            else:\n",
    "                adjust = (a0+a1+1,0)\n",
    "            n1=999-adjust[0]\n",
    "            n2=999-adjust[1]\n",
    "    return answer\n",
    "                \n",
    "largest_palindrome()"
   ]
  },
  {
   "cell_type": "code",
   "execution_count": 8,
   "metadata": {
    "collapsed": false
   },
   "outputs": [
   ],
   "source": [
   ]
  },
  {
   "cell_type": "code",
   "execution_count": 0,
   "metadata": {
    "collapsed": false
   },
   "outputs": [
   ],
   "source": [
   ]
  },
  {
   "cell_type": "code",
   "execution_count": 0,
   "metadata": {
    "collapsed": false
   },
   "outputs": [
   ],
   "source": [
   ]
  }
 ],
 "metadata": {
  "kernelspec": {
   "display_name": "Python 3 (system-wide)",
   "language": "python",
   "metadata": {
    "cocalc": {
     "description": "Python 3 programming language",
     "priority": 100,
     "url": "https://www.python.org/"
    }
   },
   "name": "python3"
  },
  "language_info": {
   "codemirror_mode": {
    "name": "ipython",
    "version": 3
   },
   "file_extension": ".py",
   "mimetype": "text/x-python",
   "name": "python",
   "nbconvert_exporter": "python",
   "pygments_lexer": "ipython3",
   "version": "3.6.8"
  }
 },
 "nbformat": 4,
 "nbformat_minor": 0
}