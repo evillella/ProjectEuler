{
 "cells": [
  {
   "cell_type": "code",
   "execution_count": 9,
   "metadata": {
    "collapsed": false
   },
   "outputs": [
    {
     "data": {
      "text/plain": [
       "4"
      ]
     },
     "execution_count": 9,
     "metadata": {
     },
     "output_type": "execute_result"
    }
   ],
   "source": [
    "\"\"\"\n",
    "Problem 31\n",
    "In England the currency is made up of pound, £, and pence, p, and there are eight coins in general circulation:\n",
    "\n",
    "1p, 2p, 5p, 10p, 20p, 50p, £1 (100p) and £2 (200p).\n",
    "It is possible to make £2 in the following way:\n",
    "\n",
    "1×£1 + 1×50p + 2×20p + 1×5p + 1×2p + 3×1p\n",
    "How many different ways can £2 be made using any number of coins?\n",
    "\"\"\"\n",
    "\n",
    "#count solutions [a,b,c,d,e,f,g,h]*[1,2,5,10,20,50,100,200] = 200\n",
    "\n",
    "def count(weight, prod):\n",
    "    if prod == 0:\n",
    "        return 1\n",
    "    elif len(weight) == 1:\n",
    "        return int(prod/weight[0])\n",
    "    else:\n",
    "        w = weight[0]\n",
    "        new_weight = weight[1:]\n",
    "        #determine possible values for item with weight w, count options\n",
    "        max_num = int(prod/w)\n",
    "        s=0\n",
    "        for n in range(max_num+1):\n",
    "            #determine product remaining when using n items of weight w\n",
    "            #recursively count options\n",
    "            s += count(new_weight,prod-n*w)\n",
    "        return s\n",
    "    \n",
    "#count([1,5,10],10)\n",
    "count([1,2,5,10,20,"
   ]
  },
  {
   "cell_type": "code",
   "execution_count": 0,
   "metadata": {
    "collapsed": false
   },
   "outputs": [
   ],
   "source": [
   ]
  }
 ],
 "metadata": {
  "kernelspec": {
   "display_name": "Python 3 (system-wide)",
   "language": "python",
   "metadata": {
    "cocalc": {
     "description": "Python 3 programming language",
     "priority": 100,
     "url": "https://www.python.org/"
    }
   },
   "name": "python3"
  },
  "language_info": {
   "codemirror_mode": {
    "name": "ipython",
    "version": 3
   },
   "file_extension": ".py",
   "mimetype": "text/x-python",
   "name": "python",
   "nbconvert_exporter": "python",
   "pygments_lexer": "ipython3",
   "version": "3.6.8"
  }
 },
 "nbformat": 4,
 "nbformat_minor": 0
}