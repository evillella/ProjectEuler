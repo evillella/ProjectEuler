{
 "cells": [
  {
   "cell_type": "code",
   "execution_count": 2,
   "metadata": {
    "collapsed": false
   },
   "outputs": [
   ],
   "source": [
    "\"\"\"\n",
    "# Project Euler - Problem 18\n",
    "By starting at the top of the triangle below and moving to adjacent numbers on the row below, the maximum total from top to bottom is 23. That is, 3 + 7 + 4 + 9 = 23.\n",
    "\n",
    "3\n",
    "7 4\n",
    "2 4 6\n",
    "8 5 9 3\n",
    "\n",
    "Find the maximum total from top to bottom of the triangle below:\n",
    "\n",
    "75\n",
    "95 64\n",
    "17 47 82\n",
    "18 35 87 10\n",
    "20 04 82 47 65\n",
    "19 01 23 75 03 34\n",
    "88 02 77 73 07 63 67\n",
    "99 65 04 28 06 16 70 92\n",
    "41 41 26 56 83 40 80 70 33\n",
    "41 48 72 33 47 32 37 16 94 29\n",
    "53 71 44 65 25 43 91 52 97 51 14\n",
    "70 11 33 28 77 73 17 78 39 68 17 57\n",
    "91 71 52 38 17 14 91 43 58 50 27 29 48\n",
    "63 66 04 68 89 53 67 30 73 16 69 87 40 31\n",
    "04 62 98 27 23 09 70 98 73 93 38 53 60 04 23\n",
    "\n",
    "NOTE: As there are only 16384 routes, it is possible to solve this problem by trying every route. However, Problem 67, is the same challenge with a triangle containing one-hundred rows; it cannot be solved by brute force, and requires a clever method! ;o)\n",
    "\"\"\"\n",
    "\n",
    "\n",
    "class Tree:\n",
    "    def __init__(self, value, left= None, right=None):\n",
    "        self.value = value\n",
    "        self.left = left\n",
    "        self.right = right\n",
    "        self.is_leaf = left is None and right is None\n",
    "        if self.is_leaf:\n",
    "            self.tot = value\n",
    "            self.path = \"\"\n",
    "        else:\n",
    "            # find max of nodes below, append appropriate \"L\" or \"R\" to node path and set as path\n",
    "            if left.tot > right.tot:\n",
    "                self.tot = value + left.tot\n",
    "                self.path = \"L\" + left.path\n",
    "            else:\n",
    "                self.tot = value + right.tot\n",
    "                self.path = \"R\" + right.path\n",
    "                \n",
    "leaves = [Tree(8), Tree(5), Tree(9), Tree(3)]\n",
    "R3 = [Tree(2, leaves[0], leaves[1]), Tree(4, leaves[1], leaves[2]), Tree(6, leaves[2], leaves[3])]\n",
    "R2 = [Tree(7, R3[0], R3[1]), Tree(4, R3[1], R3[2])]\n",
    "tree = Tree(3, R2[0], R2[1])\n",
    "      \n",
    "#3\n",
    "#7 4\n",
    "#2 4 6\n",
    "#8 5 9 3\n",
    "#tree.tot = 23\n",
    "#tree.path = 'LRR'"
   ]
  },
  {
   "cell_type": "code",
   "execution_count": 4,
   "metadata": {
    "collapsed": false
   },
   "outputs": [
    {
     "name": "stdout",
     "output_type": "stream",
     "text": [
      "1074 RRLLRLLRRRRRLR\n"
     ]
    }
   ],
   "source": [
    "# Build tree from p18data\n",
    "text_file = open(\"p18data.txt\", \"r\")\n",
    "rows = [line.split() for line in text_file]\n",
    "rows.reverse() # puts 'bottom' row first in list, to make leaves first and build up to root\n",
    "\n",
    "leaves = [Tree(int(a)) for a in rows[0]]\n",
    "below = tuple(leaves)\n",
    "tree = []\n",
    "for r in rows[1:]: #iterate through remaining rows\n",
    "    for i in range(len(r)):\n",
    "        tree.append(Tree(int(r[i]),below[i],below[i+1]))\n",
    "    below = tuple(tree)\n",
    "    tree = []\n",
    "\n",
    "print(below[0].tot,\n",
    "below[0].path) ##answers are correct\n",
    "\n"
   ]
  },
  {
   "cell_type": "code",
   "execution_count": 5,
   "metadata": {
    "collapsed": false
   },
   "outputs": [
    {
     "name": "stdout",
     "output_type": "stream",
     "text": [
      "7273 LLRRRRLRLRLRRRRRRLLRLLRLRLRRLLRRRRRRRRLLRRLRRRRRLLLRLRRRLLLLLLRRRRRLRLLLLLLRLLRRLLLLLRLLLRLRRLRRRLR\n"
     ]
    }
   ],
   "source": [
    "# Build tree from p67data just as p18data\n",
    "text_file = open(\"p67data.txt\", \"r\")\n",
    "rows = [line.split() for line in text_file]\n",
    "rows.reverse() # puts 'bottom' row first in list, to make leaves first and build up to root\n",
    "\n",
    "leaves = [Tree(int(a)) for a in rows[0]]\n",
    "below = tuple(leaves)\n",
    "tree = []\n",
    "for r in rows[1:]: #iterate through remaining rows\n",
    "    for i in range(len(r)):\n",
    "        tree.append(Tree(int(r[i]),below[i],below[i+1]))\n",
    "    below = tuple(tree)\n",
    "    tree = []\n",
    "\n",
    "print(below[0].tot,\n",
    "below[0].path)"
   ]
  },
  {
   "cell_type": "code",
   "execution_count": 0,
   "metadata": {
    "collapsed": false
   },
   "outputs": [
   ],
   "source": [
   ]
  }
 ],
 "metadata": {
  "kernelspec": {
   "display_name": "Python 3 (system-wide)",
   "language": "python",
   "metadata": {
    "cocalc": {
     "description": "Python 3 programming language",
     "priority": 100,
     "url": "https://www.python.org/"
    }
   },
   "name": "python3"
  },
  "language_info": {
   "codemirror_mode": {
    "name": "ipython",
    "version": 3
   },
   "file_extension": ".py",
   "mimetype": "text/x-python",
   "name": "python",
   "nbconvert_exporter": "python",
   "pygments_lexer": "ipython3",
   "version": "3.6.8"
  }
 },
 "nbformat": 4,
 "nbformat_minor": 0
}