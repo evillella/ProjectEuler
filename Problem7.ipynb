{
 "cells": [
  {
   "cell_type": "code",
   "execution_count": 20,
   "metadata": {
    "collapsed": false,
    "scrolled": true
   },
   "outputs": [
    {
     "name": "stdout",
     "output_type": "stream",
     "text": [
      "104743\n"
     ]
    }
   ],
   "source": [
    "\"\"\"\n",
    "Problem 7\n",
    "By listing the first six prime numbers: 2, 3, 5, 7, 11, and 13, we can see that the 6th prime is 13.\n",
    "\n",
    "What is the 10 001st prime number?\n",
    "\"\"\"\n",
    "\n",
    "def next_prime(primes):\n",
    "    \"\"\"\n",
    "    Takes in list of primes, updates list with one more prime appended\n",
    "    \"\"\"\n",
    "    n = primes[-1]\n",
    "    for p in range(n+1,n*n):\n",
    "        divisible = False\n",
    "        for f in primes:\n",
    "            if p%f == 0:\n",
    "                divisible = True\n",
    "        if not divisible:\n",
    "            primes.append(p)\n",
    "            return primes\n",
    "    print('error, should have found a prime but did not')\n",
    "                \n",
    "l = 3\n",
    "primes = [2,3,5]\n",
    "while l < 10001:\n",
    "    primes = next_prime(primes)\n",
    "    l = len(primes)\n",
    "\n",
    "print(primes[-1])"
   ]
  },
  {
   "cell_type": "code",
   "execution_count": 0,
   "metadata": {
    "collapsed": false
   },
   "outputs": [
   ],
   "source": [
   ]
  },
  {
   "cell_type": "code",
   "execution_count": 0,
   "metadata": {
    "collapsed": false
   },
   "outputs": [
   ],
   "source": [
   ]
  }
 ],
 "metadata": {
  "kernelspec": {
   "display_name": "Python 3 (system-wide)",
   "language": "python",
   "metadata": {
    "cocalc": {
     "description": "Python 3 programming language",
     "priority": 100,
     "url": "https://www.python.org/"
    }
   },
   "name": "python3"
  }
 },
 "nbformat": 4,
 "nbformat_minor": 0
}