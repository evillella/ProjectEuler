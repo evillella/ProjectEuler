{
 "cells": [
  {
   "cell_type": "code",
   "execution_count": 2,
   "metadata": {
    "collapsed": false
   },
   "outputs": [
    {
     "data": {
      "text/plain": [
       "3628800"
      ]
     },
     "execution_count": 2,
     "metadata": {
     },
     "output_type": "execute_result"
    }
   ],
   "source": [
    "\"\"\"\n",
    "Problem 24\n",
    "A permutation is an ordered arrangement of objects. For example, 3124 is one possible permutation of the digits 1, 2, 3 and 4. If all of the permutations are listed numerically or alphabetically, we call it lexicographic order. The lexicographic permutations of 0, 1 and 2 are:\n",
    "\n",
    "012   021   102   120   201   210\n",
    "\n",
    "What is the millionth lexicographic permutation of the digits 0, 1, 2, 3, 4, 5, 6, 7, 8 and 9?\n",
    "\"\"\"\n",
    "\n"
   ]
  },
  {
   "cell_type": "code",
   "execution_count": 0,
   "metadata": {
    "collapsed": false
   },
   "outputs": [
   ],
   "source": [
   ]
  },
  {
   "cell_type": "code",
   "execution_count": 30,
   "metadata": {
    "collapsed": false
   },
   "outputs": [
    {
     "name": "stdout",
     "output_type": "stream",
     "text": [
      "(0, (1, (2, 3)))\n",
      "(0, (1, (3, 2)))\n",
      "(0, (2, (1, 3)))\n",
      "(0, (2, (3, 1)))\n",
      "(0, (3, (1, 2)))\n",
      "(0, (3, (2, 1)))\n",
      "(1, (0, (2, 3)))\n",
      "(1, (0, (3, 2)))\n",
      "(1, (2, (0, 3)))\n",
      "(1, (2, (3, 0)))\n",
      "(1, (3, (0, 2)))\n",
      "(1, (3, (2, 0)))\n",
      "(2, (0, (1, 3)))\n",
      "(2, (0, (3, 1)))\n",
      "(2, (1, (0, 3)))\n",
      "(2, (1, (3, 0)))\n",
      "(2, (3, (0, 1)))\n",
      "(2, (3, (1, 0)))\n",
      "(3, (0, (1, 2)))\n",
      "(3, (0, (2, 1)))\n",
      "(3, (1, (0, 2)))\n",
      "(3, (1, (2, 0)))\n",
      "(3, (2, (0, 1)))\n",
      "(3, (2, (1, 0)))\n"
     ]
    }
   ],
   "source": [
    "def factorial(n):\n",
    "    if n==1:\n",
    "        return 1\n",
    "    else:\n",
    "        return n*factorial(n-1)\n",
    "\n",
    "def find_digit(number,digits):\n",
    "    #digits is a list of digits in permutations\n",
    "    if len(digits) == 1:\n",
    "        return digits[0]\n",
    "    else:\n",
    "        factor = factorial(len(digits)-1) #counts permutations of one-fewer digits\n",
    "        index = int(number/factor) #index is location in digits of the next number\n",
    "        d = digits[index]\n",
    "        digits.remove(d)\n",
    "        return d, find_digit(number - index*factor, digits)\n",
    "    \n",
    "find_digit(999999,[0,1,2,3,4,5,6,7,8,9])    \n",
    "\n"
   ]
  },
  {
   "cell_type": "code",
   "execution_count": 0,
   "metadata": {
    "collapsed": false
   },
   "outputs": [
   ],
   "source": [
   ]
  },
  {
   "cell_type": "code",
   "execution_count": 0,
   "metadata": {
    "collapsed": false
   },
   "outputs": [
   ],
   "source": [
   ]
  }
 ],
 "metadata": {
  "kernelspec": {
   "display_name": "Python 3 (system-wide)",
   "language": "python",
   "metadata": {
    "cocalc": {
     "description": "Python 3 programming language",
     "priority": 100,
     "url": "https://www.python.org/"
    }
   },
   "name": "python3"
  },
  "language_info": {
   "codemirror_mode": {
    "name": "ipython",
    "version": 3
   },
   "file_extension": ".py",
   "mimetype": "text/x-python",
   "name": "python",
   "nbconvert_exporter": "python",
   "pygments_lexer": "ipython3",
   "version": "3.6.8"
  }
 },
 "nbformat": 4,
 "nbformat_minor": 0
}