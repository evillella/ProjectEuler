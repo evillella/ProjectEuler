{
 "cells": [
  {
   "cell_type": "code",
   "execution_count": 8,
   "metadata": {
    "collapsed": false
   },
   "outputs": [
    {
     "name": "stdout",
     "output_type": "stream",
     "text": [
      "55373762303860\n"
     ]
    }
   ],
   "source": [
    "\"\"\"\n",
    "Problem 13\n",
    "Work out the first ten digits of the sum of the following one-hundred 50-digit numbers.\n",
    "\"\"\"\n",
    "\n",
    "text_file = open(\"Problem13.txt\", \"r\")\n",
    "lines = [line.split() for line in text_file]\n",
    "numbers = [d[0] for d in lines]\n",
    "short_nums = [d[:12] for d in numbers]\n",
    "sum = 0\n",
    "for n in short_nums:\n",
    "    sum += int(n)\n",
    "    \n",
    "print(sum)\n",
    "\n",
    "#5537376229 92 wrong\n",
    "#5537376230 3860\n"
   ]
  },
  {
   "cell_type": "code",
   "execution_count": 0,
   "metadata": {
    "collapsed": false
   },
   "outputs": [
   ],
   "source": [
   ]
  }
 ],
 "metadata": {
  "kernelspec": {
   "display_name": "Python 3 (system-wide)",
   "language": "python",
   "metadata": {
    "cocalc": {
     "description": "Python 3 programming language",
     "priority": 100,
     "url": "https://www.python.org/"
    }
   },
   "name": "python3"
  },
  "language_info": {
   "codemirror_mode": {
    "name": "ipython",
    "version": 3
   },
   "file_extension": ".py",
   "mimetype": "text/x-python",
   "name": "python",
   "nbconvert_exporter": "python",
   "pygments_lexer": "ipython3",
   "version": "3.6.8"
  }
 },
 "nbformat": 4,
 "nbformat_minor": 0
}