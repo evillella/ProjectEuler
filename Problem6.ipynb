{
 "cells": [
  {
   "cell_type": "code",
   "execution_count": 10,
   "metadata": {
    "collapsed": false
   },
   "outputs": [
    {
     "name": "stdout",
     "output_type": "stream",
     "text": [
      "25502500\n",
      "338350\n",
      "25164150\n"
     ]
    }
   ],
   "source": [
    "\"\"\"\n",
    "Problem 6\n",
    "The sum of the squares of the first ten natural numbers is,\n",
    "\n",
    "1^2 + 2^2 + ... + 10^2 = 385\n",
    "The square of the sum of the first ten natural numbers is,\n",
    "\n",
    "(1 + 2 + ... + 10)^2 = 552 = 3025\n",
    "Hence the difference between the sum of the squares of the first ten natural numbers and the square of the sum is 3025 − 385 = 2640.\n",
    "\n",
    "Find the difference between the sum of the squares of the first one hundred natural numbers and the square of the sum.\n",
    "\"\"\"\n",
    "\n",
    "l = list(range(1,101))\n",
    "#squares = [n*n for n in l]\n",
    "sum = 0\n",
    "sum_2 = 0\n",
    "for n in l:\n",
    "    sum += n\n",
    "    sum_2 += n**2\n",
    "print(sum**2)\n",
    "print(sum_2)\n",
    "print(sum**2 - sum_2)\n",
    "\n"
   ]
  },
  {
   "cell_type": "code",
   "execution_count": 0,
   "metadata": {
    "collapsed": false
   },
   "outputs": [
   ],
   "source": [
   ]
  }
 ],
 "metadata": {
  "kernelspec": {
   "display_name": "Python 3 (system-wide)",
   "language": "python",
   "metadata": {
    "cocalc": {
     "description": "Python 3 programming language",
     "priority": 100,
     "url": "https://www.python.org/"
    }
   },
   "name": "python3"
  },
  "language_info": {
   "codemirror_mode": {
    "name": "ipython",
    "version": 3
   },
   "file_extension": ".py",
   "mimetype": "text/x-python",
   "name": "python",
   "nbconvert_exporter": "python",
   "pygments_lexer": "ipython3",
   "version": "3.6.8"
  }
 },
 "nbformat": 4,
 "nbformat_minor": 0
}